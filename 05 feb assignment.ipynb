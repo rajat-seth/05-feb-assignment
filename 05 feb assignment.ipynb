{
 "cells": [
  {
   "cell_type": "markdown",
   "id": "c426c386-a2cb-4a39-a279-286d7e06e020",
   "metadata": {},
   "source": [
    "Q1)"
   ]
  },
  {
   "cell_type": "markdown",
   "id": "5cf98067-8a10-4156-9213-40bbf81fcb2e",
   "metadata": {},
   "source": [
    "A class is a user defined blueprint or prototype from which objects are created.\n",
    "An object is called an instance of a class.\n"
   ]
  },
  {
   "cell_type": "code",
   "execution_count": 7,
   "id": "dcf7e2b4-1d5e-4a6f-873c-e9b2c617f7c6",
   "metadata": {},
   "outputs": [],
   "source": [
    "class name:\n",
    "      name=\"\""
   ]
  },
  {
   "cell_type": "code",
   "execution_count": 9,
   "id": "22cec369-4790-4d8e-afa4-8a55e23a81c4",
   "metadata": {},
   "outputs": [],
   "source": [
    "name1=name"
   ]
  },
  {
   "cell_type": "code",
   "execution_count": 10,
   "id": "a6d32117-82b9-46ea-b335-ef1e757a4624",
   "metadata": {},
   "outputs": [
    {
     "data": {
      "text/plain": [
       "__main__.name"
      ]
     },
     "execution_count": 10,
     "metadata": {},
     "output_type": "execute_result"
    }
   ],
   "source": [
    "name1"
   ]
  },
  {
   "cell_type": "markdown",
   "id": "c838029b-8088-4886-8bc6-de45f7a8d46d",
   "metadata": {},
   "source": [
    "Here name is object"
   ]
  },
  {
   "cell_type": "markdown",
   "id": "30f0b31e-bcd7-433d-88a4-30e98cefd2cf",
   "metadata": {},
   "source": [
    "Q2)"
   ]
  },
  {
   "cell_type": "markdown",
   "id": "512e939c-13ed-43fb-8b0e-95d34855a8d5",
   "metadata": {},
   "source": [
    "Four pillars of OOPs are\n",
    "i) Abstraction\n",
    "ii) Encapsulation\n",
    "iii) Inheritance\n",
    "iv) Polymorphism\n"
   ]
  },
  {
   "cell_type": "markdown",
   "id": "0beca1d6-267d-49f6-a551-0c60f6ca85db",
   "metadata": {},
   "source": [
    "Q3)"
   ]
  },
  {
   "cell_type": "markdown",
   "id": "45b7dcfd-8936-44ff-8bbf-6c2680005e85",
   "metadata": {},
   "source": [
    "__init__ is used to create an object using class.\n"
   ]
  },
  {
   "cell_type": "code",
   "execution_count": 14,
   "id": "517a248b-9151-41de-b251-5f99f170cfe0",
   "metadata": {},
   "outputs": [],
   "source": [
    "class rajat:\n",
    "    def __init__(self,name):\n",
    "        return name"
   ]
  },
  {
   "cell_type": "markdown",
   "id": "d174b0f4-5a58-4c02-8afd-8d6207411ceb",
   "metadata": {},
   "source": [
    "Q4)"
   ]
  },
  {
   "cell_type": "markdown",
   "id": "040c0de3-3394-4045-9881-3c48189a8db7",
   "metadata": {},
   "source": [
    "Self is used for instance of class that is given attributes are for the same class."
   ]
  },
  {
   "cell_type": "markdown",
   "id": "4dc0f61a-1494-4940-b101-9d08f4f79b7d",
   "metadata": {},
   "source": [
    "Q5)"
   ]
  },
  {
   "cell_type": "markdown",
   "id": "e0d3a8a3-8e94-4e67-9b8d-a990e185b321",
   "metadata": {},
   "source": [
    "Inheritance allows us to define a class that inherits all the methods and properties from another class."
   ]
  },
  {
   "cell_type": "code",
   "execution_count": null,
   "id": "95d608fc-f05c-414a-87c7-b110f022e8fc",
   "metadata": {},
   "outputs": [],
   "source": []
  }
 ],
 "metadata": {
  "kernelspec": {
   "display_name": "Python 3 (ipykernel)",
   "language": "python",
   "name": "python3"
  },
  "language_info": {
   "codemirror_mode": {
    "name": "ipython",
    "version": 3
   },
   "file_extension": ".py",
   "mimetype": "text/x-python",
   "name": "python",
   "nbconvert_exporter": "python",
   "pygments_lexer": "ipython3",
   "version": "3.10.8"
  }
 },
 "nbformat": 4,
 "nbformat_minor": 5
}
